{
  "nbformat": 4,
  "nbformat_minor": 0,
  "metadata": {
    "colab": {
      "provenance": [],
      "gpuType": "T4",
      "authorship_tag": "ABX9TyOh3SpnNSzV5BTpmhi6plAZ",
      "include_colab_link": true
    },
    "kernelspec": {
      "name": "python3",
      "display_name": "Python 3"
    },
    "language_info": {
      "name": "python"
    },
    "accelerator": "GPU"
  },
  "cells": [
    {
      "cell_type": "markdown",
      "metadata": {
        "id": "view-in-github",
        "colab_type": "text"
      },
      "source": [
        "<a href=\"https://colab.research.google.com/github/95-sanya-95/Summer_ML_internship/blob/main/MNIST/MNIST_model.ipynb\" target=\"_parent\"><img src=\"https://colab.research.google.com/assets/colab-badge.svg\" alt=\"Open In Colab\"/></a>"
      ]
    },
    {
      "cell_type": "code",
      "execution_count": 1,
      "metadata": {
        "colab": {
          "base_uri": "https://localhost:8080/"
        },
        "id": "2hS2p7uUTG6S",
        "outputId": "5ccb8669-52aa-4677-b65e-913499e74363"
      },
      "outputs": [
        {
          "output_type": "stream",
          "name": "stdout",
          "text": [
            "Requirement already satisfied: jax in /usr/local/lib/python3.10/dist-packages (0.4.26)\n",
            "Requirement already satisfied: jaxlib in /usr/local/lib/python3.10/dist-packages (0.4.26+cuda12.cudnn89)\n",
            "Collecting dm-haiku\n",
            "  Using cached dm_haiku-0.0.12-py3-none-any.whl (371 kB)\n",
            "Requirement already satisfied: optax in /usr/local/lib/python3.10/dist-packages (0.2.2)\n",
            "Requirement already satisfied: tensorflow-datasets in /usr/local/lib/python3.10/dist-packages (4.9.6)\n",
            "Requirement already satisfied: ml-dtypes>=0.2.0 in /usr/local/lib/python3.10/dist-packages (from jax) (0.2.0)\n",
            "Requirement already satisfied: numpy>=1.22 in /usr/local/lib/python3.10/dist-packages (from jax) (1.25.2)\n",
            "Requirement already satisfied: opt-einsum in /usr/local/lib/python3.10/dist-packages (from jax) (3.3.0)\n",
            "Requirement already satisfied: scipy>=1.9 in /usr/local/lib/python3.10/dist-packages (from jax) (1.11.4)\n",
            "Requirement already satisfied: absl-py>=0.7.1 in /usr/local/lib/python3.10/dist-packages (from dm-haiku) (1.4.0)\n",
            "Collecting jmp>=0.0.2 (from dm-haiku)\n",
            "  Using cached jmp-0.0.4-py3-none-any.whl (18 kB)\n",
            "Requirement already satisfied: tabulate>=0.8.9 in /usr/local/lib/python3.10/dist-packages (from dm-haiku) (0.9.0)\n",
            "Requirement already satisfied: flax>=0.7.1 in /usr/local/lib/python3.10/dist-packages (from dm-haiku) (0.8.4)\n",
            "Requirement already satisfied: chex>=0.1.86 in /usr/local/lib/python3.10/dist-packages (from optax) (0.1.86)\n",
            "Requirement already satisfied: click in /usr/local/lib/python3.10/dist-packages (from tensorflow-datasets) (8.1.7)\n",
            "Requirement already satisfied: dm-tree in /usr/local/lib/python3.10/dist-packages (from tensorflow-datasets) (0.1.8)\n",
            "Requirement already satisfied: immutabledict in /usr/local/lib/python3.10/dist-packages (from tensorflow-datasets) (4.2.0)\n",
            "Requirement already satisfied: promise in /usr/local/lib/python3.10/dist-packages (from tensorflow-datasets) (2.3)\n",
            "Requirement already satisfied: protobuf>=3.20 in /usr/local/lib/python3.10/dist-packages (from tensorflow-datasets) (3.20.3)\n",
            "Requirement already satisfied: psutil in /usr/local/lib/python3.10/dist-packages (from tensorflow-datasets) (5.9.5)\n",
            "Requirement already satisfied: pyarrow in /usr/local/lib/python3.10/dist-packages (from tensorflow-datasets) (14.0.2)\n",
            "Requirement already satisfied: requests>=2.19.0 in /usr/local/lib/python3.10/dist-packages (from tensorflow-datasets) (2.31.0)\n",
            "Requirement already satisfied: simple-parsing in /usr/local/lib/python3.10/dist-packages (from tensorflow-datasets) (0.1.5)\n",
            "Requirement already satisfied: tensorflow-metadata in /usr/local/lib/python3.10/dist-packages (from tensorflow-datasets) (1.15.0)\n",
            "Requirement already satisfied: termcolor in /usr/local/lib/python3.10/dist-packages (from tensorflow-datasets) (2.4.0)\n",
            "Requirement already satisfied: toml in /usr/local/lib/python3.10/dist-packages (from tensorflow-datasets) (0.10.2)\n",
            "Requirement already satisfied: tqdm in /usr/local/lib/python3.10/dist-packages (from tensorflow-datasets) (4.66.4)\n",
            "Requirement already satisfied: wrapt in /usr/local/lib/python3.10/dist-packages (from tensorflow-datasets) (1.14.1)\n",
            "Requirement already satisfied: array-record>=0.5.0 in /usr/local/lib/python3.10/dist-packages (from tensorflow-datasets) (0.5.1)\n",
            "Requirement already satisfied: etils[enp,epath,epy,etree]>=1.6.0 in /usr/local/lib/python3.10/dist-packages (from tensorflow-datasets) (1.7.0)\n",
            "Requirement already satisfied: typing-extensions>=4.2.0 in /usr/local/lib/python3.10/dist-packages (from chex>=0.1.86->optax) (4.12.2)\n",
            "Requirement already satisfied: toolz>=0.9.0 in /usr/local/lib/python3.10/dist-packages (from chex>=0.1.86->optax) (0.12.1)\n",
            "Requirement already satisfied: fsspec in /usr/local/lib/python3.10/dist-packages (from etils[enp,epath,epy,etree]>=1.6.0->tensorflow-datasets) (2023.6.0)\n",
            "Requirement already satisfied: importlib_resources in /usr/local/lib/python3.10/dist-packages (from etils[enp,epath,epy,etree]>=1.6.0->tensorflow-datasets) (6.4.0)\n",
            "Requirement already satisfied: zipp in /usr/local/lib/python3.10/dist-packages (from etils[enp,epath,epy,etree]>=1.6.0->tensorflow-datasets) (3.19.2)\n",
            "Requirement already satisfied: msgpack in /usr/local/lib/python3.10/dist-packages (from flax>=0.7.1->dm-haiku) (1.0.8)\n",
            "Requirement already satisfied: orbax-checkpoint in /usr/local/lib/python3.10/dist-packages (from flax>=0.7.1->dm-haiku) (0.4.4)\n",
            "Requirement already satisfied: tensorstore in /usr/local/lib/python3.10/dist-packages (from flax>=0.7.1->dm-haiku) (0.1.45)\n",
            "Requirement already satisfied: rich>=11.1 in /usr/local/lib/python3.10/dist-packages (from flax>=0.7.1->dm-haiku) (13.7.1)\n",
            "Requirement already satisfied: PyYAML>=5.4.1 in /usr/local/lib/python3.10/dist-packages (from flax>=0.7.1->dm-haiku) (6.0.1)\n",
            "Requirement already satisfied: charset-normalizer<4,>=2 in /usr/local/lib/python3.10/dist-packages (from requests>=2.19.0->tensorflow-datasets) (3.3.2)\n",
            "Requirement already satisfied: idna<4,>=2.5 in /usr/local/lib/python3.10/dist-packages (from requests>=2.19.0->tensorflow-datasets) (3.7)\n",
            "Requirement already satisfied: urllib3<3,>=1.21.1 in /usr/local/lib/python3.10/dist-packages (from requests>=2.19.0->tensorflow-datasets) (2.0.7)\n",
            "Requirement already satisfied: certifi>=2017.4.17 in /usr/local/lib/python3.10/dist-packages (from requests>=2.19.0->tensorflow-datasets) (2024.6.2)\n",
            "Requirement already satisfied: six in /usr/local/lib/python3.10/dist-packages (from promise->tensorflow-datasets) (1.16.0)\n",
            "Requirement already satisfied: docstring-parser~=0.15 in /usr/local/lib/python3.10/dist-packages (from simple-parsing->tensorflow-datasets) (0.16)\n",
            "Requirement already satisfied: markdown-it-py>=2.2.0 in /usr/local/lib/python3.10/dist-packages (from rich>=11.1->flax>=0.7.1->dm-haiku) (3.0.0)\n",
            "Requirement already satisfied: pygments<3.0.0,>=2.13.0 in /usr/local/lib/python3.10/dist-packages (from rich>=11.1->flax>=0.7.1->dm-haiku) (2.16.1)\n",
            "Requirement already satisfied: nest_asyncio in /usr/local/lib/python3.10/dist-packages (from orbax-checkpoint->flax>=0.7.1->dm-haiku) (1.6.0)\n",
            "Requirement already satisfied: mdurl~=0.1 in /usr/local/lib/python3.10/dist-packages (from markdown-it-py>=2.2.0->rich>=11.1->flax>=0.7.1->dm-haiku) (0.1.2)\n",
            "Installing collected packages: jmp, dm-haiku\n",
            "Successfully installed dm-haiku-0.0.12 jmp-0.0.4\n"
          ]
        }
      ],
      "source": [
        "pip install jax jaxlib dm-haiku optax tensorflow-datasets"
      ]
    },
    {
      "cell_type": "code",
      "source": [
        "import jax.numpy as jnp\n",
        "from sklearn.model_selection import train_test_split\n",
        "from tensorflow.keras.datasets import mnist\n",
        "\n",
        "# Load and preprocess the MNIST dataset\n",
        "(x_train, y_train), (x_test, y_test) = mnist.load_data()\n",
        "\n",
        "# Normalize pixel values to range [0, 1] and convert to float32\n",
        "x_train = x_train.astype('float32') / 255.0\n",
        "x_test = x_test.astype('float32') / 255.0\n",
        "\n",
        "# Split data into training and validation sets\n",
        "x_train, x_val, y_train, y_val = train_test_split(x_train, y_train, test_size=0.1, random_state=42)\n",
        "\n",
        "# Convert numpy arrays to JAX arrays\n",
        "x_train = jnp.array(x_train)\n",
        "x_val = jnp.array(x_val)\n",
        "y_train = jnp.array(y_train)\n",
        "y_val = jnp.array(y_val)\n",
        "\n",
        "print(x_train.shape)\n",
        "print(y_train.shape)\n",
        "\n",
        "print(type(x_train))\n",
        "print(type(y_train))"
      ],
      "metadata": {
        "colab": {
          "base_uri": "https://localhost:8080/"
        },
        "id": "6TsL3MTwc_TC",
        "outputId": "a069937d-55ff-4cb5-bc42-30a4de2e7ffe"
      },
      "execution_count": 2,
      "outputs": [
        {
          "output_type": "stream",
          "name": "stdout",
          "text": [
            "Downloading data from https://storage.googleapis.com/tensorflow/tf-keras-datasets/mnist.npz\n",
            "11490434/11490434 [==============================] - 0s 0us/step\n",
            "(54000, 28, 28)\n",
            "(54000,)\n",
            "<class 'jaxlib.xla_extension.ArrayImpl'>\n",
            "<class 'jaxlib.xla_extension.ArrayImpl'>\n"
          ]
        }
      ]
    },
    {
      "cell_type": "code",
      "source": [
        "import jax\n",
        "import haiku as hk\n",
        "\n",
        "class MNIST_model(hk.Module):\n",
        "    def __init__(self, num_classes):\n",
        "        super().__init__()\n",
        "        self.num_classes = num_classes\n",
        "\n",
        "    def __call__(self, x):\n",
        "        x = hk.Conv2D(output_channels=32, kernel_shape=3, stride=1, padding='SAME')(x)\n",
        "        x = jax.nn.relu(x)\n",
        "        x = hk.MaxPool(window_shape=2, strides=1, padding='SAME')(x)\n",
        "\n",
        "        x = hk.Conv2D(output_channels=64, kernel_shape=3, stride=1, padding='SAME')(x) # increase the number of channels bcz dense layers learn more precise features\n",
        "        x = jax.nn.relu(x)\n",
        "        x = hk.MaxPool(window_shape=2, strides=1, padding='SAME')(x)\n",
        "\n",
        "        x = hk.Flatten()(x) # converting the data into a single column\n",
        "\n",
        "        x = hk.Linear(64)(x)\n",
        "        x = jax.nn.relu(x)\n",
        "\n",
        "        x = hk.Linear(64)(x)\n",
        "        x = jax.nn.relu(x)\n",
        "\n",
        "        x = hk.Linear(self.num_classes)(x)\n",
        "        x = jax.nn.softmax(x)  # Apply softmax activation\n",
        "        return x\n"
      ],
      "metadata": {
        "id": "AHI6MWoYa1z6"
      },
      "execution_count": 3,
      "outputs": []
    },
    {
      "cell_type": "code",
      "source": [
        "def forward_fn(x):\n",
        "    model = MNIST_model(num_classes = 10) # since there are 10 different numbers\n",
        "    return model(x)\n",
        "\n",
        "forward = hk.transform(forward_fn)"
      ],
      "metadata": {
        "id": "5xmjubRzgFcZ"
      },
      "execution_count": 4,
      "outputs": []
    },
    {
      "cell_type": "code",
      "source": [
        "rng = jax.random.PRNGKey(42)\n",
        "x_sample = x_train[:1]\n",
        "params = forward.init(rng, x_sample)"
      ],
      "metadata": {
        "id": "ODZbMitfgwhv"
      },
      "execution_count": 5,
      "outputs": []
    },
    {
      "cell_type": "code",
      "source": [
        "print(y_train.shape)\n",
        "print(y_train[90].shape) # just testing any random\n",
        "print(y_train[120])"
      ],
      "metadata": {
        "colab": {
          "base_uri": "https://localhost:8080/"
        },
        "id": "7P22ynvHxClR",
        "outputId": "a769d6c5-adb3-4711-b772-b6b7707b3d22"
      },
      "execution_count": 6,
      "outputs": [
        {
          "output_type": "stream",
          "name": "stdout",
          "text": [
            "(54000,)\n",
            "()\n",
            "5\n"
          ]
        }
      ]
    },
    {
      "cell_type": "code",
      "source": [
        "\n",
        "def loss_fn(params, x, y):\n",
        "    epsilon = 1e-7\n",
        "    predictions = forward.apply(params, None, x)\n",
        "    predictions = jnp.clip(predictions, epsilon, 1.0 - epsilon)\n",
        "    batch_sz = predictions.shape[0]\n",
        "    log_probs = jnp.log(predictions[jnp.arange(batch_sz), y.astype(int)])\n",
        "    loss = -jnp.mean(log_probs)\n",
        "    return loss\n"
      ],
      "metadata": {
        "id": "1Kgm4fXPtrgr"
      },
      "execution_count": 7,
      "outputs": []
    },
    {
      "cell_type": "code",
      "source": [
        "print(x_test.shape)\n",
        "print(y_test.shape)\n",
        "print(x_train.shape)\n",
        "print(y_train.shape)"
      ],
      "metadata": {
        "colab": {
          "base_uri": "https://localhost:8080/"
        },
        "id": "4DFFug1wagDe",
        "outputId": "02f8bcee-3283-49f2-d7ee-3fa4b097d51c"
      },
      "execution_count": 8,
      "outputs": [
        {
          "output_type": "stream",
          "name": "stdout",
          "text": [
            "(10000, 28, 28)\n",
            "(10000,)\n",
            "(54000, 28, 28)\n",
            "(54000,)\n"
          ]
        }
      ]
    },
    {
      "cell_type": "code",
      "source": [
        "import optax\n",
        "# Initialize optimizer\n",
        "optimizer = optax.adam(1e-3)\n",
        "opt_state = optimizer.init(params)\n",
        "\n",
        "@jax.jit\n",
        "def update(params, opt_state, x, y):\n",
        "    grads = jax.grad(loss_fn)(params, x, y)\n",
        "    updates, opt_state = optimizer.update(grads, opt_state)\n",
        "    new_params = optax.apply_updates(params, updates)\n",
        "\n",
        "    return new_params, opt_state\n",
        "\n",
        "def print_weights(params):\n",
        "    for i, param in enumerate(jax.tree_leaves(params)):\n",
        "        print(f\"Weights {i}: {param}\")\n",
        "\n",
        "num_epochs = 5\n",
        "batch_size = 64\n",
        "num_batches = x_train.shape[0]//batch_size\n",
        "print(num_batches);\n",
        "for epoch in range(num_epochs):\n",
        "    for batch_idx in range(num_batches):\n",
        "        start_idx = batch_idx * batch_size\n",
        "        end_idx = start_idx + batch_size\n",
        "        x_batch = x_train[start_idx:end_idx]\n",
        "        y_batch = y_train[start_idx:end_idx]\n",
        "        # print(f\"start: {start_idx}\")\n",
        "        # print(f\"end: {end_idx}\")\n",
        "        params, opt_state = update(params, opt_state, x_batch, y_batch)\n",
        "\n",
        "        if batch_idx % 200 == 0:\n",
        "            prediction1 = forward.apply(params,None,x_batch)\n",
        "            accuracy1 = jnp.mean(jnp.argmax(prediction1, axis=-1) == y_batch)\n",
        "            print(f\"Training Accuracy: {accuracy1}\")\n",
        "\n",
        "            train_loss = loss_fn(params, x_batch, y_batch)\n",
        "            val_loss = loss_fn(params, x_val, y_val)\n",
        "\n",
        "            prediction2 = forward.apply(params,None,x_val)\n",
        "            accuracy2 = jnp.mean(jnp.argmax(prediction2, axis=-1) == y_val)\n",
        "            print(f\"Validation Accuracy: {accuracy2}\")\n",
        "\n",
        "            print(f\"Epoch {epoch+1}/{num_epochs}, Batch {batch_idx}/{num_batches}, Train Loss: {train_loss}, Val Loss: {val_loss}\")\n",
        "\n",
        "            # Print the weights\n",
        "            # print_weights(params)\n",
        "            print(\"-----------------\")\n",
        "\n",
        "test_loss = loss_fn(params, x_test, y_test)\n",
        "print(f\"Test Loss: {test_loss}\")"
      ],
      "metadata": {
        "colab": {
          "base_uri": "https://localhost:8080/"
        },
        "id": "eqDGlcIJgEcp",
        "outputId": "2011f5ef-1233-461c-faf6-ad4612bf037e"
      },
      "execution_count": 10,
      "outputs": [
        {
          "output_type": "stream",
          "name": "stdout",
          "text": [
            "843\n",
            "Training Accuracy: 0.21875\n",
            "Validation Accuracy: 0.1158333346247673\n",
            "Epoch 1/5, Batch 0/843, Train Loss: 2.2342019081115723, Val Loss: 2.304241895675659\n",
            "-----------------\n",
            "Training Accuracy: 0.859375\n",
            "Validation Accuracy: 0.8838333487510681\n",
            "Epoch 1/5, Batch 200/843, Train Loss: 0.3785203695297241, Val Loss: 0.3613753914833069\n",
            "-----------------\n",
            "Training Accuracy: 0.921875\n",
            "Validation Accuracy: 0.9369999766349792\n",
            "Epoch 1/5, Batch 400/843, Train Loss: 0.19888044893741608, Val Loss: 0.208746075630188\n",
            "-----------------\n",
            "Training Accuracy: 0.9375\n",
            "Validation Accuracy: 0.9490000009536743\n",
            "Epoch 1/5, Batch 600/843, Train Loss: 0.23886960744857788, Val Loss: 0.16698329150676727\n",
            "-----------------\n",
            "Training Accuracy: 0.984375\n",
            "Validation Accuracy: 0.9519999623298645\n",
            "Epoch 1/5, Batch 800/843, Train Loss: 0.09550211578607559, Val Loss: 0.16345597803592682\n",
            "-----------------\n",
            "Training Accuracy: 0.953125\n",
            "Validation Accuracy: 0.9465000033378601\n",
            "Epoch 2/5, Batch 0/843, Train Loss: 0.12429596483707428, Val Loss: 0.18059244751930237\n",
            "-----------------\n",
            "Training Accuracy: 0.9375\n",
            "Validation Accuracy: 0.9506666660308838\n",
            "Epoch 2/5, Batch 200/843, Train Loss: 0.13316790759563446, Val Loss: 0.15467669069766998\n",
            "-----------------\n",
            "Training Accuracy: 0.90625\n",
            "Validation Accuracy: 0.9524999856948853\n",
            "Epoch 2/5, Batch 400/843, Train Loss: 0.21718549728393555, Val Loss: 0.14897380769252777\n",
            "-----------------\n",
            "Training Accuracy: 0.984375\n",
            "Validation Accuracy: 0.9641666412353516\n",
            "Epoch 2/5, Batch 600/843, Train Loss: 0.07891350984573364, Val Loss: 0.11244051158428192\n",
            "-----------------\n",
            "Training Accuracy: 1.0\n",
            "Validation Accuracy: 0.965666651725769\n",
            "Epoch 2/5, Batch 800/843, Train Loss: 0.028050921857357025, Val Loss: 0.11502508074045181\n",
            "-----------------\n",
            "Training Accuracy: 0.96875\n",
            "Validation Accuracy: 0.9555000066757202\n",
            "Epoch 3/5, Batch 0/843, Train Loss: 0.09291046112775803, Val Loss: 0.1394064724445343\n",
            "-----------------\n",
            "Training Accuracy: 0.984375\n",
            "Validation Accuracy: 0.9645000100135803\n",
            "Epoch 3/5, Batch 200/843, Train Loss: 0.06639206409454346, Val Loss: 0.11556103080511093\n",
            "-----------------\n",
            "Training Accuracy: 0.953125\n",
            "Validation Accuracy: 0.9648333191871643\n",
            "Epoch 3/5, Batch 400/843, Train Loss: 0.17770634591579437, Val Loss: 0.11469272524118423\n",
            "-----------------\n",
            "Training Accuracy: 1.0\n",
            "Validation Accuracy: 0.965499997138977\n",
            "Epoch 3/5, Batch 600/843, Train Loss: 0.03927598148584366, Val Loss: 0.10675839334726334\n",
            "-----------------\n",
            "Training Accuracy: 1.0\n",
            "Validation Accuracy: 0.9678333401679993\n",
            "Epoch 3/5, Batch 800/843, Train Loss: 0.02534063719213009, Val Loss: 0.10287473350763321\n",
            "-----------------\n",
            "Training Accuracy: 0.984375\n",
            "Validation Accuracy: 0.9664999842643738\n",
            "Epoch 4/5, Batch 0/843, Train Loss: 0.03009917587041855, Val Loss: 0.10728692263364792\n",
            "-----------------\n",
            "Training Accuracy: 1.0\n",
            "Validation Accuracy: 0.9698333144187927\n",
            "Epoch 4/5, Batch 200/843, Train Loss: 0.04610645771026611, Val Loss: 0.10028543323278427\n",
            "-----------------\n",
            "Training Accuracy: 0.96875\n",
            "Validation Accuracy: 0.9704999923706055\n",
            "Epoch 4/5, Batch 400/843, Train Loss: 0.10191226005554199, Val Loss: 0.09665978699922562\n",
            "-----------------\n",
            "Training Accuracy: 1.0\n",
            "Validation Accuracy: 0.9716666340827942\n",
            "Epoch 4/5, Batch 600/843, Train Loss: 0.011817952618002892, Val Loss: 0.09821870923042297\n",
            "-----------------\n",
            "Training Accuracy: 1.0\n",
            "Validation Accuracy: 0.9724999666213989\n",
            "Epoch 4/5, Batch 800/843, Train Loss: 0.01678456738591194, Val Loss: 0.09724061191082001\n",
            "-----------------\n",
            "Training Accuracy: 1.0\n",
            "Validation Accuracy: 0.9724999666213989\n",
            "Epoch 5/5, Batch 0/843, Train Loss: 0.007303926162421703, Val Loss: 0.09952804446220398\n",
            "-----------------\n",
            "Training Accuracy: 1.0\n",
            "Validation Accuracy: 0.971833348274231\n",
            "Epoch 5/5, Batch 200/843, Train Loss: 0.022361284121870995, Val Loss: 0.09688396751880646\n",
            "-----------------\n",
            "Training Accuracy: 0.96875\n",
            "Validation Accuracy: 0.9728333353996277\n",
            "Epoch 5/5, Batch 400/843, Train Loss: 0.03580442816019058, Val Loss: 0.09032293409109116\n",
            "-----------------\n",
            "Training Accuracy: 1.0\n",
            "Validation Accuracy: 0.9726666808128357\n",
            "Epoch 5/5, Batch 600/843, Train Loss: 0.01805076375603676, Val Loss: 0.09944498538970947\n",
            "-----------------\n",
            "Training Accuracy: 1.0\n",
            "Validation Accuracy: 0.9716666340827942\n",
            "Epoch 5/5, Batch 800/843, Train Loss: 0.01053660735487938, Val Loss: 0.10149369388818741\n",
            "-----------------\n",
            "Test Loss: 0.10270297527313232\n"
          ]
        }
      ]
    },
    {
      "cell_type": "code",
      "source": [
        "# Checking for some samples\n",
        "\n",
        "num_samples = 5  # Number of test cases to show predictions for\n",
        "for i in range(num_samples):\n",
        "    x_sample = x_test[i:i+1]\n",
        "    y_true = y_test[i]\n",
        "    logits = forward.apply(params, None, x_sample)\n",
        "    prediction = jnp.argmax(logits, axis=-1)[0]\n",
        "    print(f\"Sample {i+1}: Prediction = {prediction}, True Label = {y_true}\")"
      ],
      "metadata": {
        "colab": {
          "base_uri": "https://localhost:8080/"
        },
        "id": "SNjAVFkhmCiG",
        "outputId": "e66aae23-652b-4ee9-849e-d48a111ec760"
      },
      "execution_count": 11,
      "outputs": [
        {
          "output_type": "stream",
          "name": "stdout",
          "text": [
            "Sample 1: Prediction = 7, True Label = 7\n",
            "Sample 2: Prediction = 2, True Label = 2\n",
            "Sample 3: Prediction = 1, True Label = 1\n",
            "Sample 4: Prediction = 0, True Label = 0\n",
            "Sample 5: Prediction = 4, True Label = 4\n"
          ]
        }
      ]
    }
  ]
}