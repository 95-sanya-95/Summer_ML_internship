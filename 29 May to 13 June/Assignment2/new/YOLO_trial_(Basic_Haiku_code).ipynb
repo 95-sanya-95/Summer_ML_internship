{
  "nbformat": 4,
  "nbformat_minor": 0,
  "metadata": {
    "colab": {
      "provenance": [],
      "authorship_tag": "ABX9TyOauhisOxYI7+71hY1GFm1A",
      "include_colab_link": true
    },
    "kernelspec": {
      "name": "python3",
      "display_name": "Python 3"
    },
    "language_info": {
      "name": "python"
    }
  },
  "cells": [
    {
      "cell_type": "markdown",
      "metadata": {
        "id": "view-in-github",
        "colab_type": "text"
      },
      "source": [
        "<a href=\"https://colab.research.google.com/github/95-sanya-95/Summer_ML_internship/blob/main/YOLO_trial_(Basic_Haiku_code).ipynb\" target=\"_parent\"><img src=\"https://colab.research.google.com/assets/colab-badge.svg\" alt=\"Open In Colab\"/></a>"
      ]
    },
    {
      "cell_type": "markdown",
      "source": [
        "First let us brush up of **basic structure of a Haiku Model**"
      ],
      "metadata": {
        "id": "1elmQ85_qq7R"
      }
    },
    {
      "cell_type": "code",
      "source": [
        "pip install git+https://github.com/deepmind/dm-haiku"
      ],
      "metadata": {
        "colab": {
          "base_uri": "https://localhost:8080/"
        },
        "id": "sE_nZhG6q4Kd",
        "outputId": "641cc1e6-1a1a-4980-8037-5681a895c310"
      },
      "execution_count": 2,
      "outputs": [
        {
          "output_type": "stream",
          "name": "stdout",
          "text": [
            "Collecting git+https://github.com/deepmind/dm-haiku\n",
            "  Cloning https://github.com/deepmind/dm-haiku to /tmp/pip-req-build-9tdd8kpb\n",
            "  Running command git clone --filter=blob:none --quiet https://github.com/deepmind/dm-haiku /tmp/pip-req-build-9tdd8kpb\n",
            "  Resolved https://github.com/deepmind/dm-haiku to commit a7b7e73dae840153ecd828e97a64b6a875b168f7\n",
            "  Preparing metadata (setup.py) ... \u001b[?25l\u001b[?25hdone\n",
            "Requirement already satisfied: absl-py>=0.7.1 in /usr/local/lib/python3.10/dist-packages (from dm-haiku==0.0.13.dev0) (1.4.0)\n",
            "Requirement already satisfied: jmp>=0.0.2 in /usr/local/lib/python3.10/dist-packages (from dm-haiku==0.0.13.dev0) (0.0.4)\n",
            "Requirement already satisfied: numpy>=1.18.0 in /usr/local/lib/python3.10/dist-packages (from dm-haiku==0.0.13.dev0) (1.25.2)\n",
            "Requirement already satisfied: tabulate>=0.8.9 in /usr/local/lib/python3.10/dist-packages (from dm-haiku==0.0.13.dev0) (0.9.0)\n"
          ]
        }
      ]
    },
    {
      "cell_type": "code",
      "source": [
        "# Important libraries\n",
        "import jax\n",
        "import jax.numpy as jnp\n",
        "import haiku as hk\n",
        "import optax"
      ],
      "metadata": {
        "id": "jvfNWmjKrMBR"
      },
      "execution_count": 3,
      "outputs": []
    },
    {
      "cell_type": "code",
      "source": [
        "\n",
        "# Simple Haiky module\n",
        "class SimpleModel(hk.Module):\n",
        "    def __init__(self, output_dim):\n",
        "        super().__init__()\n",
        "        self.output_dim = output_dim\n",
        "\n",
        "    # make the architecture of neural network in _call_ function\n",
        "    def __call__(self, x):\n",
        "        # x = hk.Linear(128)(x)\n",
        "        # x = jax.nn.relu(x)\n",
        "        # x = hk.Linear(self.output_dim)(x)\n",
        "        return x\n",
        "\n",
        "# used to initialise the model with the given input\n",
        "def forward_fn(x):\n",
        "    model = SimpleModel(output_dim=10)\n",
        "    return model(x)\n",
        "\n",
        "# makes two functions that are to be used further 1). forward.apply  2). forward.init\n",
        "forward = hk.transform(forward_fn)\n",
        "\n",
        "rng = jax.random.PRNGKey(42)\n",
        "example_input = jnp.ones([1, 32])  # Example input with shape [batch_size, input_dim] batch_size: the dataset used to train the model\n",
        "params = forward.init(rng, example_input)\n",
        "\n",
        "def loss_fn(params, x, y):\n",
        "    predictions = forward.apply(params, x) # gives the predictions when x is applied on it\n",
        "    loss = jnp.mean((predictions - y) ** 2)  # Mean Squared Error loss\n",
        "    return loss\n",
        "\n",
        "# optimiser used for training step\n",
        "optimizer = optax.adam(learning_rate=0.001)\n",
        "opt_state = optimizer.init(params)\n",
        "\n",
        "@jax.jit\n",
        "def train_step(params, opt_state, x, y):\n",
        "    loss, grads = jax.value_and_grad(loss_fn)(params, x, y)\n",
        "    updates, opt_state = optimizer.update(grads, opt_state)\n",
        "    params = optax.apply_updates(params, updates)\n",
        "    return params, opt_state, loss"
      ],
      "metadata": {
        "id": "GDM_33j_rURX"
      },
      "execution_count": null,
      "outputs": []
    },
    {
      "cell_type": "markdown",
      "source": [
        "# **YOLO Model**"
      ],
      "metadata": {
        "id": "4gWdtd4ptO_P"
      }
    },
    {
      "cell_type": "code",
      "source": [
        "class YOLO(hk.Module):\n",
        "    def __init__(self, num_classes, grid_size, num_bboxes):\n",
        "        super().__init__()\n",
        "        self.num_classes = num_classes\n",
        "        self.grid_size = grid_size\n",
        "        self.num_bboxes = num_bboxes\n",
        "\n",
        "    def __call__(self, x):\n",
        "        # Convolutional layers\n",
        "        x = hk.Conv2D(32, kernel_shape=3, stride=1, padding='SAME')(x)\n",
        "        x = jax.nn.relu(x)\n",
        "        x = hk.MaxPool(window_shape=2, strides=2, padding='VALID')(x)\n",
        "\n",
        "        x = hk.Conv2D(64, kernel_shape=3, stride=1, padding='SAME')(x)\n",
        "        x = jax.nn.relu(x)\n",
        "        x = hk.MaxPool(window_shape=2, strides=2, padding='VALID')(x)\n",
        "\n",
        "        x = hk.Conv2D(128, kernel_shape=3, stride=1, padding='SAME')(x)\n",
        "        x = jax.nn.relu(x)\n",
        "        x = hk.MaxPool(window_shape=2, strides=2, padding='VALID')(x)\n",
        "\n",
        "        x = hk.Conv2D(256, kernel_shape=3, stride=1, padding='SAME')(x)\n",
        "        x = jax.nn.relu(x)\n",
        "        x = hk.MaxPool(window_shape=2, strides=2, padding='VALID')(x)\n",
        "\n",
        "        x = hk.Conv2D(512, kernel_shape=3, stride=1, padding='SAME')(x)\n",
        "        x = jax.nn.relu(x)\n",
        "        x = hk.MaxPool(window_shape=2, strides=2, padding='VALID')(x)\n",
        "\n",
        "        x = hk.Conv2D(1024, kernel_shape=3, stride=1, padding='SAME')(x)\n",
        "        x = jax.nn.relu(x)\n",
        "\n",
        "        # Fully connected layers\n",
        "        x = hk.Flatten()(x)\n",
        "        x = hk.Linear(4096)(x)\n",
        "        x = jax.nn.relu(x)\n",
        "        x = hk.Linear(self.grid_size * self.grid_size * (self.num_bboxes * 5 + self.num_classes))(x)\n",
        "\n",
        "        # Reshape output to match the grid size and number of bounding boxes\n",
        "        x = jnp.reshape(x, (-1, self.grid_size, self.grid_size, self.num_bboxes * 5 + self.num_classes))\n",
        "        return x"
      ],
      "metadata": {
        "id": "9xwIFfj1uHSw"
      },
      "execution_count": 6,
      "outputs": []
    },
    {
      "cell_type": "markdown",
      "source": [
        "## **YOLO Forward function**"
      ],
      "metadata": {
        "id": "dCfZ3Md0udDv"
      }
    },
    {
      "cell_type": "code",
      "source": [
        "\n",
        "def yolo_forward(x, num_classes, grid_size, num_bboxes):\n",
        "    model = YOLO(num_classes, grid_size, num_bboxes)\n",
        "    return model(x)"
      ],
      "metadata": {
        "id": "Lx4RtovPuN6C"
      },
      "execution_count": 7,
      "outputs": []
    },
    {
      "cell_type": "markdown",
      "source": [
        "## YOLO Loss function\n"
      ],
      "metadata": {
        "id": "51fU1Yp_ulbm"
      }
    }
  ]
}
