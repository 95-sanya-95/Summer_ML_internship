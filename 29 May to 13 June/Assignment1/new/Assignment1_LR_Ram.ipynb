{
 "cells": [
  {
   "cell_type": "markdown",
   "metadata": {
    "colab_type": "text",
    "id": "view-in-github"
   },
   "source": [
    "<a href=\"https://colab.research.google.com/github/95-sanya-95/Summer_ML_internship/blob/main/29%20May%20to%2013%20June/Assignment1/new/Assignment1_LR.ipynb\" target=\"_parent\"><img src=\"https://colab.research.google.com/assets/colab-badge.svg\" alt=\"Open In Colab\"/></a>"
   ]
  },
  {
   "cell_type": "code",
   "execution_count": 1,
   "metadata": {
    "colab": {
     "base_uri": "https://localhost:8080/"
    },
    "id": "v5W5EhiFVtME",
    "outputId": "20219b21-e026-489e-df3c-22c50a8182a0"
   },
   "outputs": [
    {
     "name": "stdout",
     "output_type": "stream",
     "text": [
      "Mapping for column 'brand':\n",
      "  acura -> 0\n",
      "  audi -> 1\n",
      "  bmw -> 2\n",
      "  buick -> 3\n",
      "  cadillac -> 4\n",
      "  chevrolet -> 5\n",
      "  chrysler -> 6\n",
      "  dodge -> 7\n",
      "  ford -> 8\n",
      "  gmc -> 9\n",
      "  harley-davidson -> 10\n",
      "  heartland -> 11\n",
      "  honda -> 12\n",
      "  hyundai -> 13\n",
      "  infiniti -> 14\n",
      "  jaguar -> 15\n",
      "  jeep -> 16\n",
      "  kia -> 17\n",
      "  land -> 18\n",
      "  lexus -> 19\n",
      "  lincoln -> 20\n",
      "  maserati -> 21\n",
      "  mazda -> 22\n",
      "  mercedes-benz -> 23\n",
      "  nissan -> 24\n",
      "  peterbilt -> 25\n",
      "  ram -> 26\n",
      "  toyota -> 27\n",
      "Mapping for column 'model':\n",
      "  1500 -> 0\n",
      "  2500 -> 1\n",
      "  2500hd -> 2\n",
      "  300 -> 3\n",
      "  3500 -> 4\n",
      "  5 -> 5\n",
      "  acadia -> 6\n",
      "  altima -> 7\n",
      "  armada -> 8\n",
      "  bus -> 9\n",
      "  cab -> 10\n",
      "  camaro -> 11\n",
      "  caravan -> 12\n",
      "  cargo -> 13\n",
      "  challenger -> 14\n",
      "  charger -> 15\n",
      "  chassis -> 16\n",
      "  cherokee -> 17\n",
      "  colorado -> 18\n",
      "  compass -> 19\n",
      "  connect -> 20\n",
      "  convertible -> 21\n",
      "  corvette -> 22\n",
      "  country -> 23\n",
      "  coupe -> 24\n",
      "  cruiser -> 25\n",
      "  cruze -> 26\n",
      "  cutaway -> 27\n",
      "  cx-3 -> 28\n",
      "  d -> 29\n",
      "  dart -> 30\n",
      "  discovery -> 31\n",
      "  door -> 32\n",
      "  doors -> 33\n",
      "  dr -> 34\n",
      "  drw -> 35\n",
      "  durango -> 36\n",
      "  e-class -> 37\n",
      "  ecosport -> 38\n",
      "  edge -> 39\n",
      "  el -> 40\n",
      "  elantra -> 41\n",
      "  enclave -> 42\n",
      "  encore -> 43\n",
      "  energi -> 44\n",
      "  equinox -> 45\n",
      "  escape -> 46\n",
      "  esv -> 47\n",
      "  expedition -> 48\n",
      "  explorer -> 49\n",
      "  f-150 -> 50\n",
      "  f-650 -> 51\n",
      "  f-750 -> 52\n",
      "  fiesta -> 53\n",
      "  flex -> 54\n",
      "  focus -> 55\n",
      "  forte -> 56\n",
      "  frontier -> 57\n",
      "  fusion -> 58\n",
      "  ghibli -> 59\n",
      "  glc -> 60\n",
      "  gle -> 61\n",
      "  gx -> 62\n",
      "  hybrid -> 63\n",
      "  impala -> 64\n",
      "  journey -> 65\n",
      "  juke -> 66\n",
      "  kicks -> 67\n",
      "  ld -> 68\n",
      "  limited -> 69\n",
      "  m -> 70\n",
      "  malibu -> 71\n",
      "  max -> 72\n",
      "  maxima -> 73\n",
      "  mdx -> 74\n",
      "  mpv -> 75\n",
      "  murano -> 76\n",
      "  mustang -> 77\n",
      "  nautilus -> 78\n",
      "  note -> 79\n",
      "  nvp -> 80\n",
      "  pacifica -> 81\n",
      "  passenger -> 82\n",
      "  pathfinder -> 83\n",
      "  pickup -> 84\n",
      "  pioneer -> 85\n",
      "  pk -> 86\n",
      "  q5 -> 87\n",
      "  q70 -> 88\n",
      "  ranger -> 89\n",
      "  road/street -> 90\n",
      "  rogue -> 91\n",
      "  se -> 92\n",
      "  sedan -> 93\n",
      "  sentra -> 94\n",
      "  series -> 95\n",
      "  sl-class -> 96\n",
      "  sonic -> 97\n",
      "  sorento -> 98\n",
      "  soul -> 99\n",
      "  spark -> 100\n",
      "  sport -> 101\n",
      "  sportage -> 102\n",
      "  srw -> 103\n",
      "  srx -> 104\n",
      "  suburban -> 105\n",
      "  suv -> 106\n",
      "  tahoe -> 107\n",
      "  taurus -> 108\n",
      "  titan -> 109\n",
      "  trail -> 110\n",
      "  transit -> 111\n",
      "  traverse -> 112\n",
      "  trax -> 113\n",
      "  truck -> 114\n",
      "  utility -> 115\n",
      "  van -> 116\n",
      "  vans -> 117\n",
      "  vehicl -> 118\n",
      "  versa -> 119\n",
      "  volt -> 120\n",
      "  wagon -> 121\n",
      "  x3 -> 122\n",
      "  xd -> 123\n",
      "  xt5 -> 124\n",
      "  xterra -> 125\n",
      "Mapping for column 'title_status':\n",
      "  clean vehicle -> 0\n",
      "  salvage insurance -> 1\n",
      "Mapping for column 'country':\n",
      "   canada -> 0\n",
      "   usa -> 1\n",
      "Mapping for column 'condition':\n",
      "  1 days left -> 0\n",
      "  1 hours left -> 1\n",
      "  1 minutes -> 2\n",
      "  10 days left -> 3\n",
      "  11 days left -> 4\n",
      "  12 days left -> 5\n",
      "  12 hours left -> 6\n",
      "  13 days left -> 7\n",
      "  14 hours left -> 8\n",
      "  15 days left -> 9\n",
      "  15 hours left -> 10\n",
      "  16 hours left -> 11\n",
      "  16 minutes -> 12\n",
      "  17 hours left -> 13\n",
      "  18 hours left -> 14\n",
      "  19 hours left -> 15\n",
      "  2 days left -> 16\n",
      "  2 hours left -> 17\n",
      "  20 hours left -> 18\n",
      "  21 hours left -> 19\n",
      "  22 hours left -> 20\n",
      "  23 hours left -> 21\n",
      "  24 hours left -> 22\n",
      "  27 minutes -> 23\n",
      "  28 minutes -> 24\n",
      "  29 minutes -> 25\n",
      "  3 days left -> 26\n",
      "  3 hours left -> 27\n",
      "  30 minutes -> 28\n",
      "  32 minutes -> 29\n",
      "  34 minutes -> 30\n",
      "  36 minutes -> 31\n",
      "  4 days left -> 32\n",
      "  4 hours left -> 33\n",
      "  47 minutes -> 34\n",
      "  48 minutes -> 35\n",
      "  5 days left -> 36\n",
      "  5 hours left -> 37\n",
      "  53 minutes -> 38\n",
      "  6 days left -> 39\n",
      "  6 hours left -> 40\n",
      "  7 days left -> 41\n",
      "  7 hours left -> 42\n",
      "  8 days left -> 43\n",
      "  9 days left -> 44\n",
      "  9 minutes -> 45\n",
      "  Listing Expired -> 46\n"
     ]
    }
   ],
   "source": [
    "import jax.numpy as jnp\n",
    "import jax\n",
    "import pandas as pd\n",
    "df = pd.read_csv('../old/USA_cars_datasets.csv');\n",
    "drop_columns = ['Unnamed: 0', 'vin', 'lot']\n",
    "df = df.drop(drop_columns, axis=1)\n",
    "df = df[df['price']!=0]\n",
    "df = df[df['condition']!='0 hours left']\n",
    "drop_col = ['color']\n",
    "df = df.drop(drop_col, axis=1)\n",
    "\n",
    "drop_col = ['state']\n",
    "df = df.drop(drop_col, axis=1)\n",
    "\n",
    "string_columns = ['brand', 'model', 'title_status', 'country','condition']  # Update with your column names\n",
    "\n",
    "mappings = {}\n",
    "for col in string_columns:\n",
    "    unique_entries = sorted(df[col].unique())\n",
    "    mapping = {entry: idx for idx, entry in enumerate(unique_entries)}\n",
    "    df[col] = df[col].map(mapping)\n",
    "    mappings[col] = mapping\n",
    "\n",
    "for col, mapping in mappings.items():\n",
    "    print(f\"Mapping for column '{col}':\")\n",
    "    for entry, idx in mapping.items():\n",
    "        print(f\"  {entry} -> {idx}\")"
   ]
  },
  {
   "cell_type": "code",
   "execution_count": 2,
   "metadata": {
    "colab": {
     "base_uri": "https://localhost:8080/",
     "height": 206
    },
    "id": "3xeWGpGbWqjx",
    "outputId": "20a81b18-4ed6-4282-cae7-3c982a2c8593"
   },
   "outputs": [
    {
     "data": {
      "text/html": [
       "<div>\n",
       "<style scoped>\n",
       "    .dataframe tbody tr th:only-of-type {\n",
       "        vertical-align: middle;\n",
       "    }\n",
       "\n",
       "    .dataframe tbody tr th {\n",
       "        vertical-align: top;\n",
       "    }\n",
       "\n",
       "    .dataframe thead th {\n",
       "        text-align: right;\n",
       "    }\n",
       "</style>\n",
       "<table border=\"1\" class=\"dataframe\">\n",
       "  <thead>\n",
       "    <tr style=\"text-align: right;\">\n",
       "      <th></th>\n",
       "      <th>price</th>\n",
       "      <th>brand</th>\n",
       "      <th>model</th>\n",
       "      <th>year</th>\n",
       "      <th>title_status</th>\n",
       "      <th>mileage</th>\n",
       "      <th>country</th>\n",
       "      <th>condition</th>\n",
       "    </tr>\n",
       "  </thead>\n",
       "  <tbody>\n",
       "    <tr>\n",
       "      <th>0</th>\n",
       "      <td>6300</td>\n",
       "      <td>27</td>\n",
       "      <td>25</td>\n",
       "      <td>2008</td>\n",
       "      <td>0</td>\n",
       "      <td>274117.0</td>\n",
       "      <td>1</td>\n",
       "      <td>3</td>\n",
       "    </tr>\n",
       "    <tr>\n",
       "      <th>1</th>\n",
       "      <td>2899</td>\n",
       "      <td>8</td>\n",
       "      <td>92</td>\n",
       "      <td>2011</td>\n",
       "      <td>0</td>\n",
       "      <td>190552.0</td>\n",
       "      <td>1</td>\n",
       "      <td>39</td>\n",
       "    </tr>\n",
       "    <tr>\n",
       "      <th>2</th>\n",
       "      <td>5350</td>\n",
       "      <td>7</td>\n",
       "      <td>75</td>\n",
       "      <td>2018</td>\n",
       "      <td>0</td>\n",
       "      <td>39590.0</td>\n",
       "      <td>1</td>\n",
       "      <td>16</td>\n",
       "    </tr>\n",
       "    <tr>\n",
       "      <th>3</th>\n",
       "      <td>25000</td>\n",
       "      <td>8</td>\n",
       "      <td>32</td>\n",
       "      <td>2014</td>\n",
       "      <td>0</td>\n",
       "      <td>64146.0</td>\n",
       "      <td>1</td>\n",
       "      <td>20</td>\n",
       "    </tr>\n",
       "    <tr>\n",
       "      <th>4</th>\n",
       "      <td>27700</td>\n",
       "      <td>5</td>\n",
       "      <td>0</td>\n",
       "      <td>2018</td>\n",
       "      <td>0</td>\n",
       "      <td>6654.0</td>\n",
       "      <td>1</td>\n",
       "      <td>20</td>\n",
       "    </tr>\n",
       "  </tbody>\n",
       "</table>\n",
       "</div>"
      ],
      "text/plain": [
       "   price  brand  model  year  title_status   mileage  country  condition\n",
       "0   6300     27     25  2008             0  274117.0        1          3\n",
       "1   2899      8     92  2011             0  190552.0        1         39\n",
       "2   5350      7     75  2018             0   39590.0        1         16\n",
       "3  25000      8     32  2014             0   64146.0        1         20\n",
       "4  27700      5      0  2018             0    6654.0        1         20"
      ]
     },
     "execution_count": 2,
     "metadata": {},
     "output_type": "execute_result"
    }
   ],
   "source": [
    "df.head()"
   ]
  },
  {
   "cell_type": "code",
   "execution_count": 3,
   "metadata": {
    "colab": {
     "base_uri": "https://localhost:8080/"
    },
    "id": "uJYwQql1Wtn4",
    "outputId": "04dac8a1-c9de-49a1-e637-e9e313cd046b"
   },
   "outputs": [
    {
     "name": "stdout",
     "output_type": "stream",
     "text": [
      "[[6.30000e+03 2.70000e+01 2.50000e+01 ... 2.74117e+05 1.00000e+00\n",
      "  3.00000e+00]\n",
      " [2.89900e+03 8.00000e+00 9.20000e+01 ... 1.90552e+05 1.00000e+00\n",
      "  3.90000e+01]\n",
      " [5.35000e+03 7.00000e+00 7.50000e+01 ... 3.95900e+04 1.00000e+00\n",
      "  1.60000e+01]\n",
      " ...\n",
      " [9.20000e+03 2.40000e+01 1.19000e+02 ... 3.15940e+04 1.00000e+00\n",
      "  1.90000e+01]\n",
      " [9.20000e+03 2.40000e+01 1.19000e+02 ... 3.25570e+04 1.00000e+00\n",
      "  1.60000e+01]\n",
      " [9.20000e+03 2.40000e+01 1.19000e+02 ... 3.13710e+04 1.00000e+00\n",
      "  1.90000e+01]]\n"
     ]
    }
   ],
   "source": [
    "jax_array = jnp.array(df.values)\n",
    "print(jax_array)"
   ]
  },
  {
   "cell_type": "code",
   "execution_count": 59,
   "metadata": {
    "id": "r-g-CzDTgPHb"
   },
   "outputs": [],
   "source": [
    "y = jax_array[:, 0]\n",
    "X = jax_array[:, 1:]"
   ]
  },
  {
   "cell_type": "code",
   "execution_count": 60,
   "metadata": {
    "id": "At4kKozxgUSR"
   },
   "outputs": [],
   "source": [
    "key = jax.random.PRNGKey(0) # this generates a random number with the seed 0 (helps in duplication) {KIND OF SMART RANDOM NUMBER GENERATION :)}\n",
    "n_features = 7\n",
    "X = X[:, :n_features]"
   ]
  },
  {
   "cell_type": "code",
   "execution_count": 61,
   "metadata": {
    "id": "8l8J1j50gf-f"
   },
   "outputs": [],
   "source": [
    "beta = jax.random.normal(key, (n_features,))\n",
    "intercept = 0.0"
   ]
  },
  {
   "cell_type": "code",
   "execution_count": 62,
   "metadata": {},
   "outputs": [
    {
     "data": {
      "text/plain": [
       "Array([0., 0., 0., ..., 0., 0., 0.], dtype=float32)"
      ]
     },
     "execution_count": 62,
     "metadata": {},
     "output_type": "execute_result"
    }
   ],
   "source": [
    "X.min(1)"
   ]
  },
  {
   "cell_type": "code",
   "execution_count": 63,
   "metadata": {},
   "outputs": [],
   "source": [
    "X_mean = jnp.mean(X, 1).reshape(-1, 1)\n",
    "X_std = jnp.std(X, 1).reshape(-1, 1)\n",
    "X = (X - X_mean) / X_std"
   ]
  },
  {
   "cell_type": "code",
   "execution_count": 64,
   "metadata": {},
   "outputs": [
    {
     "data": {
      "text/plain": [
       "(2456, 7)"
      ]
     },
     "execution_count": 64,
     "metadata": {},
     "output_type": "execute_result"
    }
   ],
   "source": [
    "X.shape"
   ]
  },
  {
   "cell_type": "code",
   "execution_count": 65,
   "metadata": {
    "id": "fboiMJP3gms1"
   },
   "outputs": [],
   "source": [
    "#defining the model\n",
    "def model(X, beta, intercept):\n",
    "    return jnp.dot(X, beta) + intercept\n",
    "\n",
    "import haiku as hk\n",
    "\n",
    "def YOLO(config={}):\n",
    "    def forward(x):\n",
    "        # actual architecture would go here\n",
    "        pass\n",
    "    return forward\n",
    "\n",
    "def Linear(output_dim, use_bias=True):\n",
    "    def forward(x):\n",
    "        # one can also do it manually\n",
    "        # w = jax.random.normal\n",
    "        # b = jax.random.normal(0)\n",
    "        linear_module = hk.Linear(output_dim, with_bias=use_bias)\n",
    "        return linear_module(x)\n",
    "    return forward\n"
   ]
  },
  {
   "cell_type": "code",
   "execution_count": 70,
   "metadata": {
    "id": "iMY-ES6FgsnU"
   },
   "outputs": [],
   "source": [
    "# Define the loss function (Mean Squared Error)\n",
    "@jax.jit\n",
    "def loss(beta, intercept, X, y):\n",
    "    predictions = model(X, beta, intercept)\n",
    "    return jnp.mean((y - predictions) ** 2)\n",
    "\n",
    "@jax.jit # just in time compilation\n",
    "def new_loss(all_params, input_, y):\n",
    "    # all_params is always the first argument, None is because we don't need to pasas random key\n",
    "    pred = model_forward(all_params, None, input_)\n",
    "    return jnp.power(pred - y, 2).mean()\n",
    "    \n",
    "import optax\n",
    "\n",
    "@jax.jit\n",
    "def step(all_params, opt_state, input_, y):\n",
    "    # grads is for all grads\n",
    "    loss_val, grads = jax.value_and_grad(new_loss)(all_params, input_, y)\n",
    "    updates, opt_state = opt.update(grads, opt_state, all_params)\n",
    "    all_params = optax.apply_updates(all_params, updates)\n",
    "    return all_params, opt_state, loss_val\n"
   ]
  },
  {
   "cell_type": "code",
   "execution_count": 43,
   "metadata": {
    "colab": {
     "base_uri": "https://localhost:8080/"
    },
    "collapsed": true,
    "id": "sESAh0rxgxBl",
    "jupyter": {
     "outputs_hidden": true
    },
    "outputId": "3d8eae98-c17f-4496-91e6-392e97d590eb",
    "scrolled": true
   },
   "outputs": [
    {
     "name": "stdout",
     "output_type": "stream",
     "text": [
      "(2456,) (2456,)\n",
      "Iteration 0: Loss = 231798128.0\n",
      "Iteration 1000: Loss = 142235536.0\n",
      "Iteration 2000: Loss = 142235536.0\n",
      "Iteration 3000: Loss = 142235536.0\n",
      "Iteration 4000: Loss = 142235536.0\n"
     ]
    },
    {
     "ename": "TypeError",
     "evalue": "Argument '21343.953125' of type <class 'jaxlib.xla_extension.ArrayImpl'> is not a valid JAX type.",
     "output_type": "error",
     "traceback": [
      "\u001b[0;31m---------------------------------------------------------------------------\u001b[0m",
      "\u001b[0;31mTypeError\u001b[0m                                 Traceback (most recent call last)",
      "Cell \u001b[0;32mIn[43], line 10\u001b[0m\n\u001b[1;32m      7\u001b[0m intercept \u001b[38;5;241m=\u001b[39m \u001b[38;5;241m0.0\u001b[39m\n\u001b[1;32m      9\u001b[0m \u001b[38;5;28;01mfor\u001b[39;00m i \u001b[38;5;129;01min\u001b[39;00m \u001b[38;5;28mrange\u001b[39m(n_iterations):\n\u001b[0;32m---> 10\u001b[0m     grads \u001b[38;5;241m=\u001b[39m loss_grad(beta, intercept, X, y)\n\u001b[1;32m     11\u001b[0m     beta \u001b[38;5;241m-\u001b[39m\u001b[38;5;241m=\u001b[39m learning_rate \u001b[38;5;241m*\u001b[39m grads[\u001b[38;5;241m0\u001b[39m]\n\u001b[1;32m     12\u001b[0m     intercept \u001b[38;5;241m-\u001b[39m\u001b[38;5;241m=\u001b[39m learning_rate \u001b[38;5;241m*\u001b[39m grads[\u001b[38;5;241m1\u001b[39m]\n",
      "    \u001b[0;31m[... skipping hidden 5 frame]\u001b[0m\n",
      "File \u001b[0;32m~/miniconda3/lib/python3.11/site-packages/jax/_src/dispatch.py:285\u001b[0m, in \u001b[0;36mcheck_arg\u001b[0;34m(arg)\u001b[0m\n\u001b[1;32m    283\u001b[0m \u001b[38;5;28;01mdef\u001b[39;00m \u001b[38;5;21mcheck_arg\u001b[39m(arg: Any):\n\u001b[1;32m    284\u001b[0m   \u001b[38;5;28;01mif\u001b[39;00m \u001b[38;5;129;01mnot\u001b[39;00m (\u001b[38;5;28misinstance\u001b[39m(arg, core\u001b[38;5;241m.\u001b[39mTracer) \u001b[38;5;129;01mor\u001b[39;00m core\u001b[38;5;241m.\u001b[39mvalid_jaxtype(arg)):\n\u001b[0;32m--> 285\u001b[0m     \u001b[38;5;28;01mraise\u001b[39;00m \u001b[38;5;167;01mTypeError\u001b[39;00m(\u001b[38;5;124mf\u001b[39m\u001b[38;5;124m\"\u001b[39m\u001b[38;5;124mArgument \u001b[39m\u001b[38;5;124m'\u001b[39m\u001b[38;5;132;01m{\u001b[39;00marg\u001b[38;5;132;01m}\u001b[39;00m\u001b[38;5;124m'\u001b[39m\u001b[38;5;124m of type \u001b[39m\u001b[38;5;132;01m{\u001b[39;00m\u001b[38;5;28mtype\u001b[39m(arg)\u001b[38;5;132;01m}\u001b[39;00m\u001b[38;5;124m is not a valid \u001b[39m\u001b[38;5;124m\"\u001b[39m\n\u001b[1;32m    286\u001b[0m                     \u001b[38;5;124m\"\u001b[39m\u001b[38;5;124mJAX type.\u001b[39m\u001b[38;5;124m\"\u001b[39m)\n",
      "\u001b[0;31mTypeError\u001b[0m: Argument '21343.953125' of type <class 'jaxlib.xla_extension.ArrayImpl'> is not a valid JAX type."
     ]
    }
   ],
   "source": [
    "from jax import grad\n",
    "loss_grad = grad(loss, argnums=(0, 1)) # HERE IT IS TAKING grad with the first and second argumnet of the loss function\n",
    "learning_rate = 1e-1\n",
    "n_iterations = 10000\n",
    "\n",
    "beta = jax.random.normal(key, (n_features,))\n",
    "intercept = 0.0\n",
    "\n",
    "for i in range(n_iterations):\n",
    "    grads = loss_grad(beta, intercept, X, y)\n",
    "    beta -= learning_rate * grads[0]\n",
    "    intercept -= learning_rate * grads[1]\n",
    "    if i % 1000 == 0:\n",
    "        print(f\"Iteration {i}: Loss = {loss(beta, intercept, X, y)}\")\n"
   ]
  },
  {
   "cell_type": "code",
   "execution_count": 74,
   "metadata": {},
   "outputs": [
    {
     "name": "stdout",
     "output_type": "stream",
     "text": [
      "Iteration 0: Loss = 507723552.0\n",
      "Iteration 1000: Loss = 505508736.0\n"
     ]
    },
    {
     "ename": "KeyboardInterrupt",
     "evalue": "",
     "output_type": "error",
     "traceback": [
      "\u001b[0;31m---------------------------------------------------------------------------\u001b[0m",
      "\u001b[0;31mKeyboardInterrupt\u001b[0m                         Traceback (most recent call last)",
      "Cell \u001b[0;32mIn[74], line 23\u001b[0m\n\u001b[1;32m     19\u001b[0m opt_state \u001b[38;5;241m=\u001b[39m opt\u001b[38;5;241m.\u001b[39minit(all_params)\n\u001b[1;32m     21\u001b[0m \u001b[38;5;28;01mfor\u001b[39;00m i \u001b[38;5;129;01min\u001b[39;00m \u001b[38;5;28mrange\u001b[39m(\u001b[38;5;241m10000\u001b[39m):\n\u001b[1;32m     22\u001b[0m     \u001b[38;5;66;03m# since we call step() repeatedly, it is jitted above\u001b[39;00m\n\u001b[0;32m---> 23\u001b[0m     all_params, opt_state, loss_val \u001b[38;5;241m=\u001b[39m step(all_params, opt_state, X, y)\n\u001b[1;32m     24\u001b[0m     \u001b[38;5;28;01mif\u001b[39;00m i \u001b[38;5;241m%\u001b[39m \u001b[38;5;241m1000\u001b[39m \u001b[38;5;241m==\u001b[39m \u001b[38;5;241m0\u001b[39m:\n\u001b[1;32m     25\u001b[0m         \u001b[38;5;28mprint\u001b[39m(\u001b[38;5;124mf\u001b[39m\u001b[38;5;124m\"\u001b[39m\u001b[38;5;124mIteration \u001b[39m\u001b[38;5;132;01m{\u001b[39;00mi\u001b[38;5;132;01m}\u001b[39;00m\u001b[38;5;124m: Loss = \u001b[39m\u001b[38;5;132;01m{\u001b[39;00mloss_val\u001b[38;5;132;01m}\u001b[39;00m\u001b[38;5;124m\"\u001b[39m)\n",
      "File \u001b[0;32m<string>:1\u001b[0m, in \u001b[0;36m<lambda>\u001b[0;34m(_cls, count, mu, nu)\u001b[0m\n",
      "\u001b[0;31mKeyboardInterrupt\u001b[0m: "
     ]
    }
   ],
   "source": [
    "# Ram's code\n",
    "\n",
    "\"\"\"\n",
    "1. First create the architecture in a function of function (where the function you\n",
    "return is the forward pass of that architecture\n",
    "2. Initialize your parameters of that architecture\n",
    "3. Pass the parameters to an optax optimizer's init function\n",
    "4. Write the loss and step functions\n",
    "5. Use the step function iteratively in the training loop\n",
    "\"\"\"\n",
    "\n",
    "init_key = jax.random.PRNGKey(2)\n",
    "# create the init, apply functions of a haiku model\n",
    "model_obj = Linear(1) # car price, 1 dimension\n",
    "init, apply = hk.transform(model_obj)\n",
    "init = jax.jit(init)\n",
    "model_forward = jax.jit(apply)\n",
    "# init function initializes your parameters\n",
    "all_params = init(init_key, X)\n",
    "\n",
    "# optimizer\n",
    "opt = optax.sgd(learning_rate=1e-5)\n",
    "opt_state = opt.init(all_params)\n",
    "\n",
    "for i in range(10000):\n",
    "    # since we call step() repeatedly, it is jitted above\n",
    "    all_params, opt_state, loss_val = step(all_params, opt_state, X, y)\n",
    "    if i % 1000 == 0:\n",
    "        print(f\"Iteration {i}: Loss = {loss_val}\")"
   ]
  },
  {
   "cell_type": "code",
   "execution_count": 68,
   "metadata": {},
   "outputs": [
    {
     "data": {
      "text/plain": [
       "{'linear': {'w': Array([[-0.13594127],\n",
       "         [-0.05088013],\n",
       "         [ 0.20370743],\n",
       "         [-0.17132115],\n",
       "         [ 0.32017428],\n",
       "         [ 0.4419095 ],\n",
       "         [-0.10074732]], dtype=float32),\n",
       "  'b': Array([0.], dtype=float32)}}"
      ]
     },
     "execution_count": 68,
     "metadata": {},
     "output_type": "execute_result"
    }
   ],
   "source": [
    "all_params"
   ]
  },
  {
   "cell_type": "code",
   "execution_count": 40,
   "metadata": {},
   "outputs": [
    {
     "data": {
      "text/plain": [
       "[<matplotlib.lines.Line2D at 0x741f20ff65d0>]"
      ]
     },
     "execution_count": 40,
     "metadata": {},
     "output_type": "execute_result"
    },
    {
     "data": {
      "image/png": "[encoded data removed]",
      "text/plain": [
       "<Figure size 640x480 with 1 Axes>"
      ]
     },
     "metadata": {},
     "output_type": "display_data"
    }
   ],
   "source": [
    "from matplotlib import pyplot as plt\n",
    "\n",
    "plt.plot(y)"
   ]
  },
  {
   "cell_type": "code",
   "execution_count": 10,
   "metadata": {
    "colab": {
     "base_uri": "https://localhost:8080/"
    },
    "id": "dCiLA9S7xeln",
    "outputId": "f838abdf-5206-4caf-acd6-88cd933f0c71"
   },
   "outputs": [
    {
     "name": "stdout",
     "output_type": "stream",
     "text": [
      "Trained parameters (beta): [ 0.08086783 -0.38624713 -0.37565565  0.58691907 -1.2758198   2.1192005\n",
      " -0.85821223]\n",
      "Intercept:  1.6764487e-11\n"
     ]
    }
   ],
   "source": [
    "print(\"Trained parameters (beta):\", beta)\n",
    "print(\"Intercept: \", intercept)"
   ]
  },
  {
   "cell_type": "code",
   "execution_count": 11,
   "metadata": {
    "colab": {
     "base_uri": "https://localhost:8080/"
    },
    "id": "D7PKffpCx-fm",
    "outputId": "4e059f0e-212a-4298-e497-33e4bc6edc51"
   },
   "outputs": [
    {
     "name": "stdout",
     "output_type": "stream",
     "text": [
      "prediction for audi :1, model :5,  year:2005, clean vehicle:0, mileage:60000 , usa :1, 1 day left: 0 -75372.48\n"
     ]
    }
   ],
   "source": [
    "# let us check for audi :1, model :5,  year:2005, clean vehicle:0, mileage:60000 , usa :1, 1 day left: 0\n",
    "new_car_features = [1, 1, 5, 2005, 60000, 1, 0]\n",
    "\n",
    "# Convert the new car features to a JAX array\n",
    "new_car_array = jnp.array(new_car_features)\n",
    "\n",
    "prediction = model(new_car_array, beta, intercept)\n",
    "print(\"prediction for audi :1, model :5,  year:2005, clean vehicle:0, mileage:60000 , usa :1, 1 day left: 0\", prediction)"
   ]
  }
 ],
 "metadata": {
  "colab": {
   "authorship_tag": "ABX9TyNh3xpz6gXaoqLpTBfgHjJa",
   "include_colab_link": true,
   "provenance": []
  },
  "kernelspec": {
   "display_name": "Python 3 (ipykernel)",
   "language": "python",
   "name": "python3"
  },
  "language_info": {
   "codemirror_mode": {
    "name": "ipython",
    "version": 3
   },
   "file_extension": ".py",
   "mimetype": "text/x-python",
   "name": "python",
   "nbconvert_exporter": "python",
   "pygments_lexer": "ipython3",
   "version": "3.11.4"
  }
 },
 "nbformat": 4,
 "nbformat_minor": 4
}
